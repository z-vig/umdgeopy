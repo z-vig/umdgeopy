{
 "cells": [
  {
   "cell_type": "markdown",
   "id": "23a3adc6",
   "metadata": {},
   "source": [
    "# File Handling in Python"
   ]
  },
  {
   "cell_type": "markdown",
   "id": "54588771",
   "metadata": {},
   "source": [
    "## Introduction to the built-in `pathlib` library\n",
    "\n",
    "`pathlib` is an object-oriented file system. What this means practically is\n",
    "that it is a flexible, reusable and cross-os solution to handling file paths\n",
    "with Python. Let's dive right in."
   ]
  },
  {
   "cell_type": "markdown",
   "id": "cb595afd",
   "metadata": {},
   "source": [
    "First, import the `Path` class, which is the main way to interact with the `pathlib` library."
   ]
  },
  {
   "cell_type": "code",
   "execution_count": 1,
   "id": "2e0e9241",
   "metadata": {},
   "outputs": [],
   "source": [
    "from pathlib import Path"
   ]
  },
  {
   "cell_type": "markdown",
   "id": "bc7c5990",
   "metadata": {},
   "source": [
    "#### Relative vs. Absolute File Paths\n",
    "An important distinction when coding using file paths is to determine whether you should be using relative or absolute file paths. An absolute file path starts from the base of your file system (on windows it is a drive letter like C:/... and on a mac, it just starts with your root ~/...). Which kind of path you choose to use is up to your particular use case."
   ]
  },
  {
   "cell_type": "code",
   "execution_count": null,
   "id": "151dcfdc",
   "metadata": {},
   "outputs": [
    {
     "name": "stdout",
     "output_type": "stream",
     "text": [
      "example_files ..\\extras\\example_files\n",
      "C:\\Users\\zacha\\python_code\\WorkshopCode\\umdgeopy\\extras\\example_files\n",
      "True\n"
     ]
    }
   ],
   "source": [
    "# Start by defining a relative path to the example files directory in this repository.\n",
    "# A single dot indicates \"here\" and a double dot indicates \"go back one level\".\n",
    "fp1 = Path(\"./example_files\")\n",
    "fp2 = Path(\"..extras/example_files\")\n",
    "\n",
    "# fp1 and fp2 point to the same place. You can use the .resolve method to convert a relative path to an absolute path to check this.\n",
    "print(fp1, fp2)\n",
    "print(fp1.resolve())\n",
    "print(fp1.resolve() == fp2.resolve())"
   ]
  },
  {
   "cell_type": "markdown",
   "id": "34151c39",
   "metadata": {},
   "source": [
    "### Cross-os compatibility\n",
    "\n",
    "The most painful thing about coding in file paths is when you all-of-a-sudden have to change operating systems and the way file paths are read changes. Luckily, `pathlib` accounts for this! There are two main types of OS file path types: Windows and POSIX. `pathlib` allows you to convert from a windows-like path to a posix-like path with the .as_posix() method. When creating a Path object, it will automatically detect your operating system and ensure that the path matches the file path style that is compatible."
   ]
  },
  {
   "cell_type": "code",
   "execution_count": 17,
   "id": "8bb1aa05",
   "metadata": {},
   "outputs": [
    {
     "name": "stdout",
     "output_type": "stream",
     "text": [
      "C:\\Users\\zacha\\python_code\\WorkshopCode\\umdgeopy\\extras\\example_files\n",
      "C:/Users/zacha/python_code/WorkshopCode/umdgeopy/extras/example_files\n"
     ]
    }
   ],
   "source": [
    "print(fp1.resolve())  # Back slashes for a native windows OS\n",
    "print(fp1.resolve().as_posix())  # Now it has forward slashes"
   ]
  },
  {
   "cell_type": "markdown",
   "id": "1600aff8",
   "metadata": {},
   "source": [
    "### File search capabilities\n",
    "\n",
    "Searching for files within a file tree is super easy! Just use the `.walk()` and `.glob()` methods!"
   ]
  },
  {
   "cell_type": "code",
   "execution_count": 32,
   "id": "55d5079f",
   "metadata": {},
   "outputs": [
    {
     "name": "stdout",
     "output_type": "stream",
     "text": [
      "example_files\\data0.txt\n",
      "example_files\\data1.txt\n",
      "example_files\\data2.txt\n",
      "example_files\\data3.txt\n",
      "example_files\\data4.txt\n",
      "example_files\\data5.txt\n",
      "example_files\\data6.txt\n",
      "example_files\\data7.txt\n",
      "example_files\\data8.txt\n",
      "example_files\\data9.txt\n",
      "example_files\\folder1\\subdata1.txt\n"
     ]
    }
   ],
   "source": [
    "for r, d, f in fp1.walk():  # iterates through all root directories, parent directories and files.\n",
    "    for i in r.glob(\"*.txt\"):  # searches for any files with the extenstion .txt in each root directory.\n",
    "        print(i)  # Prints the file paths that fulfil the .glob pattern."
   ]
  },
  {
   "cell_type": "code",
   "execution_count": null,
   "id": "b107fccd",
   "metadata": {},
   "outputs": [],
   "source": []
  }
 ],
 "metadata": {
  "kernelspec": {
   "display_name": ".venv",
   "language": "python",
   "name": "python3"
  },
  "language_info": {
   "codemirror_mode": {
    "name": "ipython",
    "version": 3
   },
   "file_extension": ".py",
   "mimetype": "text/x-python",
   "name": "python",
   "nbconvert_exporter": "python",
   "pygments_lexer": "ipython3",
   "version": "3.13.7"
  }
 },
 "nbformat": 4,
 "nbformat_minor": 5
}

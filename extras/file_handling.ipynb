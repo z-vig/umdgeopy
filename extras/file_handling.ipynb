{
 "cells": [
  {
   "cell_type": "markdown",
   "id": "23a3adc6",
   "metadata": {},
   "source": [
    "# File Handling in Python"
   ]
  },
  {
   "cell_type": "markdown",
   "id": "54588771",
   "metadata": {},
   "source": [
    "## Introduction to the built-in `pathlib` library\n",
    "\n",
    "`pathlib` is an object-oriented file system. What this means practically is\n",
    "that it is a flexible, reusable and cross-os solution to handling file paths\n",
    "with Python. Let's dive right in.\n",
    "\n",
    "- You can see the dense documentation [here](https://docs.python.org/3/library/pathlib.html)\n",
    "\n",
    "- And a less dense tutorial [here](https://www.geeksforgeeks.org/python/pathlib-module-in-python/)"
   ]
  },
  {
   "cell_type": "markdown",
   "id": "cb595afd",
   "metadata": {},
   "source": [
    "First, import the `Path` class, which is the main way to interact with the `pathlib` library."
   ]
  },
  {
   "cell_type": "code",
   "execution_count": 2,
   "id": "2e0e9241",
   "metadata": {},
   "outputs": [],
   "source": [
    "from pathlib import Path"
   ]
  },
  {
   "cell_type": "markdown",
   "id": "bc7c5990",
   "metadata": {},
   "source": [
    "#### Relative vs. Absolute File Paths\n",
    "An important distinction when coding using file paths is to determine whether you should be using relative or absolute file paths. An absolute file path starts from the base of your file system (on windows it is a drive letter like C:/... and on a mac, it just starts with your root ~/...). Which kind of path you choose to use is up to your particular use case."
   ]
  },
  {
   "cell_type": "code",
   "execution_count": 3,
   "id": "151dcfdc",
   "metadata": {},
   "outputs": [
    {
     "name": "stdout",
     "output_type": "stream",
     "text": [
      "example_files ..extras\\example_files\n",
      "C:\\Users\\zvig\\python_code\\python_workshop_code\\umdgeopy\\extras\\example_files\n",
      "False\n"
     ]
    }
   ],
   "source": [
    "# Start by defining a relative path to the example files directory in this repository.\n",
    "# A single dot indicates \"here\" and a double dot indicates \"go back one level\".\n",
    "fp1 = Path(\"./example_files\")\n",
    "fp2 = Path(\"..extras/example_files\")\n",
    "\n",
    "# fp1 and fp2 point to the same place. You can use the .resolve method to convert a relative path to an absolute path to check this.\n",
    "print(fp1, fp2)\n",
    "print(fp1.resolve())\n",
    "print(fp1.resolve() == fp2.resolve())"
   ]
  },
  {
   "cell_type": "markdown",
   "id": "34151c39",
   "metadata": {},
   "source": [
    "### Cross-os compatibility\n",
    "\n",
    "The most painful thing about coding in file paths is when you all-of-a-sudden have to change operating systems and the way file paths are read changes. Luckily, `pathlib` accounts for this! There are two main types of OS file path types: Windows and POSIX. `pathlib` allows you to convert from a windows-like path to a posix-like path with the .as_posix() method. When creating a Path object, it will automatically detect your operating system and ensure that the path matches the file path style that is compatible."
   ]
  },
  {
   "cell_type": "code",
   "execution_count": 4,
   "id": "8bb1aa05",
   "metadata": {},
   "outputs": [
    {
     "name": "stdout",
     "output_type": "stream",
     "text": [
      "C:\\Users\\zvig\\python_code\\python_workshop_code\\umdgeopy\\extras\\example_files\n",
      "C:/Users/zvig/python_code/python_workshop_code/umdgeopy/extras/example_files\n"
     ]
    }
   ],
   "source": [
    "print(fp1.resolve())  # Back slashes for a native windows OS\n",
    "print(fp1.resolve().as_posix())  # Now it has forward slashes"
   ]
  },
  {
   "cell_type": "markdown",
   "id": "1600aff8",
   "metadata": {},
   "source": [
    "### File search capabilities\n",
    "\n",
    "Searching for files within a file tree is super easy! Just use the `.walk()` and `.glob()` methods!"
   ]
  },
  {
   "cell_type": "code",
   "execution_count": 5,
   "id": "55d5079f",
   "metadata": {},
   "outputs": [
    {
     "name": "stdout",
     "output_type": "stream",
     "text": [
      "example_files\\data0.txt\n",
      "example_files\\data1.txt\n",
      "example_files\\data2.txt\n",
      "example_files\\data3.txt\n",
      "example_files\\data4.txt\n",
      "example_files\\data5.txt\n",
      "example_files\\data6.txt\n",
      "example_files\\data7.txt\n",
      "example_files\\data8.txt\n",
      "example_files\\data9.txt\n",
      "example_files\\folder1\\subdata1.txt\n"
     ]
    }
   ],
   "source": [
    "for r, d, f in fp1.walk():  # iterates through all root directories, parent directories and files.\n",
    "    for i in r.glob(\"*.txt\"):  # searches for any files with the extenstion .txt in each root directory.\n",
    "        print(i)  # Prints the file paths that fulfil the .glob pattern."
   ]
  },
  {
   "cell_type": "markdown",
   "id": "04410f72",
   "metadata": {},
   "source": [
    "### Module File Path Building\n",
    "\n",
    "When you need to make new file paths, just use existing `Path` objects like so!"
   ]
  },
  {
   "cell_type": "code",
   "execution_count": null,
   "id": "8e6c272b",
   "metadata": {},
   "outputs": [
    {
     "name": "stdout",
     "output_type": "stream",
     "text": [
      "C:\\Users\\zvig\\python_code\\python_workshop_code\\umdgeopy\\extras\\example_files\\newdata0\n",
      "('C:\\\\', 'Users', 'zvig', 'python_code', 'python_workshop_code', 'umdgeopy', 'extras', 'example_files', 'newdata0')\n",
      "newdata0\n",
      "C:\\Users\\zvig\\python_code\\python_workshop_code\\umdgeopy\\extras\\example_files\n",
      "C:\\Users\\zvig\\python_code\\python_workshop_code\\umdgeopy\n",
      "C:\n"
     ]
    }
   ],
   "source": [
    "fp3 = Path(fp1, \"newdata0\")\n",
    "fp3_abs = fp3.resolve()\n",
    "print(fp3_abs)\n",
    "# You can also see all of the parts of your path separately\n",
    "print(fp3_abs.parts)  # Prints all parts in a tuple of strings\n",
    "print(fp3_abs.name)  # Prints just the very last part of the path\n",
    "print(fp3_abs.parent)  # Prints the path one directory level above the end\n",
    "print(fp3_abs.parent.parent.parent)  # And now three above\n",
    "print(fp3_abs.drive)  # Prints the drive letter (for windows at least)"
   ]
  },
  {
   "cell_type": "markdown",
   "id": "85490a71",
   "metadata": {},
   "source": [
    "### File and directory creation\n",
    "\n",
    "You can also create files and directories using the `.touch()` and `.mkdir()` methods respectively."
   ]
  },
  {
   "cell_type": "code",
   "execution_count": null,
   "id": "9b854f07",
   "metadata": {},
   "outputs": [],
   "source": [
    "fp3.mkdir(exist_ok=True)  # exist_ok=True argument specifies that it will still create the directory even if it already exists... careful! It will overwrite things!\n",
    "fp4 = fp3.with_suffix(\".txt\")  # This adds an extension to a path.\n",
    "fp4.touch()"
   ]
  },
  {
   "cell_type": "markdown",
   "id": "dc9da180",
   "metadata": {},
   "source": [
    "### Regular Expressions\n",
    "\n",
    "Going along with the theme of file handling is regular expressions or Regexes. These nifty little tools allow you to flexibly and reliable searching through strings of data. Regexes in python are implemented using the `re` library. It is a steep learning curve, but once you get the hang of it, they are super helpful! [See this helpful cheat sheet.](https://www.rexegg.com/regex-quickstart.php)"
   ]
  },
  {
   "cell_type": "code",
   "execution_count": 65,
   "id": "4bb037af",
   "metadata": {},
   "outputs": [
    {
     "name": "stdout",
     "output_type": "stream",
     "text": [
      "('23085jfbaASeuhfp982hdh', 'THINGTHATIWANT', '2sdfawed8143ASDERF2095834')\n"
     ]
    }
   ],
   "source": [
    "import re\n",
    "mylongstr = \"23085jfbaASeuhfp982hdhTHINGTHATIWANT2sdfawed8143ASDERF2095834\"\n",
    "myregex = re.compile(r'([0-9a-zA-Z]+)(THINGTHATIWANT)([0-9a-zA-Z]+)')\n",
    "match = re.match(myregex, mylongstr)\n",
    "if match is not None:\n",
    "    print(match.groups())"
   ]
  },
  {
   "cell_type": "markdown",
   "id": "5937d5b3",
   "metadata": {},
   "source": [
    "### Practical Regex Example: FTIR .MAP File Parsing"
   ]
  },
  {
   "cell_type": "code",
   "execution_count": 66,
   "id": "b107fccd",
   "metadata": {},
   "outputs": [],
   "source": [
    "import re\n",
    "base_dir = Path(\"D:/misc_data/\")\n",
    "with open(Path(base_dir, \"2025_10_6_10_42_17_nmnhlabradorite_arraymap1.map\"), \"rb\") as f:\n",
    "    b = f.read()\n",
    "\n",
    "patt = re.compile(r'XPos=\\s?-?\\d+.?\\d+,\\sYPos=\\s?\\d+.?\\d+,\\sX=-?\\d+.?\\d+, Y=\\s\\d+.?\\d+')\n",
    "result = re.findall(patt, str(b))\n",
    "with open(\"./FTIR_parsing.txt\", \"w\") as f:\n",
    "    for i in result:\n",
    "        f.write(f\"{i}\\n\")"
   ]
  }
 ],
 "metadata": {
  "kernelspec": {
   "display_name": ".venv",
   "language": "python",
   "name": "python3"
  },
  "language_info": {
   "codemirror_mode": {
    "name": "ipython",
    "version": 3
   },
   "file_extension": ".py",
   "mimetype": "text/x-python",
   "name": "python",
   "nbconvert_exporter": "python",
   "pygments_lexer": "ipython3",
   "version": "3.13.7"
  }
 },
 "nbformat": 4,
 "nbformat_minor": 5
}
